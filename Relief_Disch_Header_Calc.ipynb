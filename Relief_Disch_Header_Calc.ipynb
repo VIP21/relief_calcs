{
 "cells": [
  {
   "cell_type": "code",
   "execution_count": 131,
   "metadata": {
    "collapsed": true
   },
   "outputs": [],
   "source": [
    "import math"
   ]
  },
  {
   "cell_type": "markdown",
   "metadata": {},
   "source": [
    "# Refrigeration Safety Relief Valve Header Calcs\n",
    "### Assumptions\n",
    "* All pipe is carbon steel\n",
    "* Pipe 1-1/2\" and below is sch 80, 2\" and above is sch 40\n",
    "* Refrigerant is Ammonia (for now)"
   ]
  },
  {
   "cell_type": "code",
   "execution_count": 152,
   "metadata": {
    "collapsed": true
   },
   "outputs": [],
   "source": [
    "# USER INPUTS\n",
    "nom_pipe_size = 2.5  # Enter as decimal: 3/4\" Nom Pipe Size = \n",
    "set_press = 55    # PSIG\n",
    "p2 = 14.7          # PSIA, abs press at disch piping outlet\n",
    "Cr = 112.4         # capacity of relief valve in lb/min air"
   ]
  },
  {
   "cell_type": "code",
   "execution_count": 153,
   "metadata": {},
   "outputs": [
    {
     "name": "stdout",
     "output_type": "stream",
     "text": [
      "2.469\n",
      "22.95\n",
      "0.0182\n"
     ]
    }
   ],
   "source": [
    "pipe_sizes = {\n",
    "    0.5 : 0.546,\n",
    "    0.75 : 0.742,\n",
    "    1 : 0.957,\n",
    "    1.25 : 1.278,\n",
    "    1.5 : 1.5,\n",
    "    2 : 2.067,\n",
    "    2.5 : 2.469,\n",
    "    3 : 3.068,\n",
    "    4 : 4.026,\n",
    "    5 : 5.047,\n",
    "    6 : 6.065,\n",
    "}\n",
    "d = pipe_sizes[nom_pipe_size]\n",
    "\n",
    "p0 = (set_press * 0.15) + 14.7  # Allowed back press (PSIA) at outlet of valve (15% of set_press)\n",
    "\n",
    "friction_factors = {\n",
    "    0.5 : 0.0259,\n",
    "    0.75 : 0.0240,\n",
    "    1 : 0.0225,\n",
    "    1.25 : 0.0209,\n",
    "    1.5 : 0.0202,\n",
    "    2 : 0.0190,\n",
    "    2.5 : 0.0182,\n",
    "    3 : 0.0173,\n",
    "    4 : 0.0163,\n",
    "    5 : 0.0155,\n",
    "    6 : 0.0149,\n",
    "}\n",
    "f = friction_factors[nom_pipe_size]\n",
    "\n",
    "print(d)\n",
    "print(p0)\n",
    "print(f)"
   ]
  },
  {
   "cell_type": "markdown",
   "metadata": {},
   "source": [
    "### Max Allowable Feet"
   ]
  },
  {
   "cell_type": "code",
   "execution_count": 154,
   "metadata": {},
   "outputs": [
    {
     "name": "stdout",
     "output_type": "stream",
     "text": [
      "16.526029871318553\n"
     ]
    }
   ],
   "source": [
    "L = ((0.2146 * d**5 * ((p0**2)-(p2**2))) / (f * Cr**2)) - (d * math.log(p0/p2, math.e))/(6 * f)\n",
    "print(L)"
   ]
  },
  {
   "cell_type": "markdown",
   "metadata": {},
   "source": [
    "term1 = (0.2146 * d**5 * ((p0**2)-(p2**2)))\n",
    "term2 = (d * math.log(p0/p2, math.e))/(6 * f)\n",
    "Cr2 = math.sqrt((term1/(L + term2)) / f)\n",
    "\n",
    "print(Cr2)"
   ]
  }
 ],
 "metadata": {
  "kernelspec": {
   "display_name": "Python 3",
   "language": "python",
   "name": "python3"
  },
  "language_info": {
   "codemirror_mode": {
    "name": "ipython",
    "version": 3
   },
   "file_extension": ".py",
   "mimetype": "text/x-python",
   "name": "python",
   "nbconvert_exporter": "python",
   "pygments_lexer": "ipython3",
   "version": "3.6.3"
  }
 },
 "nbformat": 4,
 "nbformat_minor": 2
}
